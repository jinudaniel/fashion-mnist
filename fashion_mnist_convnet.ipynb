{
 "cells": [
  {
   "cell_type": "code",
   "execution_count": 1,
   "metadata": {
    "collapsed": true
   },
   "outputs": [],
   "source": [
    "import tensorflow as tf\n",
    "import matplotlib.pyplot as plt"
   ]
  },
  {
   "cell_type": "code",
   "execution_count": 2,
   "metadata": {},
   "outputs": [
    {
     "name": "stdout",
     "output_type": "stream",
     "text": [
      "Extracting data/fashion\\train-images-idx3-ubyte.gz\n",
      "Extracting data/fashion\\train-labels-idx1-ubyte.gz\n",
      "Extracting data/fashion\\t10k-images-idx3-ubyte.gz\n",
      "Extracting data/fashion\\t10k-labels-idx1-ubyte.gz\n"
     ]
    }
   ],
   "source": [
    "from tensorflow.examples.tutorials.mnist import input_data\n",
    "fashion_mnist = input_data.read_data_sets(\"data/fashion\", one_hot=True)"
   ]
  },
  {
   "cell_type": "code",
   "execution_count": 3,
   "metadata": {},
   "outputs": [
    {
     "data": {
      "image/png": "[encoded data removed]",
      "text/plain": [
       "<matplotlib.figure.Figure at 0x7da0919128>"
      ]
     },
     "metadata": {},
     "output_type": "display_data"
    },
    {
     "data": {
      "image/png": "[encoded data removed]",
      "text/plain": [
       "<matplotlib.figure.Figure at 0x7da33c0780>"
      ]
     },
     "metadata": {},
     "output_type": "display_data"
    }
   ],
   "source": [
    "%matplotlib inline\n",
    "sample_1 = fashion_mnist.train.images[100].reshape(28,28)\n",
    "plt.imshow(sample_1, cmap='Greys')\n",
    "plt.show()\n",
    "\n",
    "sample_2 = fashion_mnist.train.images[500].reshape(28,28)\n",
    "plt.imshow(sample_2, cmap='Greys')\n",
    "plt.show()"
   ]
  },
  {
   "cell_type": "code",
   "execution_count": 4,
   "metadata": {
    "collapsed": true
   },
   "outputs": [],
   "source": [
    "# Training Parameters\n",
    "learning_rate = 0.001\n",
    "num_steps = 500\n",
    "batch_size = 128\n",
    "display_step = 10"
   ]
  },
  {
   "cell_type": "code",
   "execution_count": 5,
   "metadata": {
    "collapsed": true
   },
   "outputs": [],
   "source": [
    "# Network Parameters\n",
    "num_input = 784 # data input (Image shape: 28*28)\n",
    "num_classes = 10 # total classes (0-9 labels)\n",
    "dropout = 0.75 # Dropout probability"
   ]
  },
  {
   "cell_type": "code",
   "execution_count": 6,
   "metadata": {
    "collapsed": true
   },
   "outputs": [],
   "source": [
    "# Create placeholder variables\n",
    "def create_placeholders():  \n",
    "    X = tf.placeholder(tf.float32, [None, num_input])\n",
    "    Y = tf.placeholder(tf.float32, [None, num_classes])\n",
    "    keep_prob = tf.placeholder(tf.float32)\n",
    "    return X, Y, keep_prob"
   ]
  },
  {
   "cell_type": "code",
   "execution_count": 7,
   "metadata": {
    "collapsed": true
   },
   "outputs": [],
   "source": [
    "#Defines a conv layer with bias and activation\n",
    "def conv2d(x, W, b, strides = 1):\n",
    "    x = tf.nn.conv2d(x, W, strides=[1, strides, strides, 1], padding='SAME')\n",
    "    x = tf.nn.bias_add(x, b)\n",
    "    return tf.nn.relu(x)"
   ]
  },
  {
   "cell_type": "code",
   "execution_count": 8,
   "metadata": {
    "collapsed": true
   },
   "outputs": [],
   "source": [
    "#Defines a pooling layer\n",
    "def maxpool2d(x):\n",
    "    return tf.nn.max_pool(x, ksize=[1,2,2,1], strides=[1,2,2,1], padding='SAME')"
   ]
  },
  {
   "cell_type": "code",
   "execution_count": 9,
   "metadata": {
    "collapsed": true
   },
   "outputs": [],
   "source": [
    "# Weights and Biases\n",
    "weights = {\n",
    "    # 5x5 conv, 1 input, 32 outputs\n",
    "    'wc1': tf.Variable(tf.random_normal([5, 5, 1, 32])),\n",
    "    # 5x5 conv, 32 inputs, 64 outputs\n",
    "    'wc2': tf.Variable(tf.random_normal([5, 5, 32, 64])),\n",
    "    # fully connected, 7*7*64 inputs, 1024 outputs\n",
    "    'wf1': tf.Variable(tf.random_normal([7*7*64, 1024])),\n",
    "    # 1024 inputs, 10 outputs\n",
    "    'out': tf.Variable(tf.random_normal([1024, num_classes]))\n",
    "}\n",
    "\n",
    "biases = {\n",
    "    'bc1': tf.Variable(tf.random_normal([32])),\n",
    "    'bc2': tf.Variable(tf.random_normal([64])),\n",
    "    'bf1': tf.Variable(tf.random_normal([1024])),\n",
    "    'out': tf.Variable(tf.random_normal([num_classes]))\n",
    "}"
   ]
  },
  {
   "cell_type": "code",
   "execution_count": 10,
   "metadata": {
    "collapsed": true
   },
   "outputs": [],
   "source": [
    "def conv_net(x, weights, biases, dropout):\n",
    "    \n",
    "    # Fashion MNIST data is 1D input vector with 784 features(28*28).\n",
    "    #Reshape it to a 4D tensor  with the second and third dimensions corresponding to image width and height,\n",
    "    #and the final dimension corresponding to the number of color channels.\n",
    "    x = tf.reshape(x, [-1, 28, 28, 1])\n",
    "    \n",
    "    # Convolution layer\n",
    "    conv1 = conv2d(x, weights['wc1'], biases['bc1'])\n",
    "    #Max pooling\n",
    "    conv1 = maxpool2d(conv1)\n",
    "    \n",
    "    \n",
    "    #Convolution layer\n",
    "    conv2 = conv2d(conv1, weights['wc2'], biases['bc2'])\n",
    "    #Max pooling\n",
    "    conv2 = maxpool2d(conv2)\n",
    "    \n",
    "   \n",
    "    #Fully connected layer\n",
    "    fc1 = tf.reshape(conv2, [-1, 7*7*64])\n",
    "    fc1 = tf.add(tf.matmul(fc1, weights['wf1']), biases['bf1'])\n",
    "    fc1 = tf.nn.relu(fc1)\n",
    "\n",
    "    #Apply dropout\n",
    "    fc1 = tf.nn.dropout(fc1, dropout)\n",
    "        \n",
    "    \n",
    "    #Output\n",
    "    output = tf.matmul(fc1, weights['out']) + biases['out']\n",
    "    return output"
   ]
  },
  {
   "cell_type": "code",
   "execution_count": 11,
   "metadata": {
    "collapsed": true
   },
   "outputs": [],
   "source": [
    "X, Y, keep_prob = create_placeholders()\n",
    "\n",
    "#Forward Propagation\n",
    "logits = conv_net(X, weights, biases, keep_prob)\n",
    "prediction = tf.nn.softmax(logits)\n",
    "\n",
    "#Define the cost function and back propagate using Adam Optimizer which minimizes the loss\n",
    "loss = tf.reduce_mean(tf.nn.softmax_cross_entropy_with_logits(logits=logits, labels=Y))\n",
    "train = tf.train.AdamOptimizer(learning_rate=learning_rate).minimize(loss)"
   ]
  },
  {
   "cell_type": "code",
   "execution_count": 13,
   "metadata": {},
   "outputs": [
    {
     "name": "stdout",
     "output_type": "stream",
     "text": [
      "Cost after epoch 0: 1.659150\n",
      "Cost after epoch 10: 0.608858\n",
      "Cost after epoch 20: 0.372702\n",
      "Cost after epoch 30: 0.375746\n",
      "Cost after epoch 40: 0.250847\n",
      "Cost after epoch 50: 0.225200\n",
      "Cost after epoch 60: 0.228168\n",
      "Cost after epoch 70: 0.174243\n",
      "Cost after epoch 80: 0.212020\n",
      "Cost after epoch 90: 0.132564\n",
      "Cost after epoch 100: 0.128432\n",
      "Cost after epoch 110: 0.150560\n",
      "Cost after epoch 120: 0.080409\n",
      "Cost after epoch 130: 0.127283\n",
      "Cost after epoch 140: 0.070057\n",
      "Cost after epoch 150: 0.108661\n",
      "Cost after epoch 160: 0.098016\n",
      "Cost after epoch 170: 0.098951\n",
      "Cost after epoch 180: 0.139625\n",
      "Cost after epoch 190: 0.089985\n",
      "Cost after epoch 200: 0.115758\n",
      "Cost after epoch 210: 0.091064\n",
      "Cost after epoch 220: 0.089274\n",
      "Cost after epoch 230: 0.061314\n",
      "Cost after epoch 240: 0.092893\n",
      "Cost after epoch 250: 0.038881\n",
      "Cost after epoch 260: 0.055857\n",
      "Cost after epoch 270: 0.053117\n",
      "Cost after epoch 280: 0.074610\n",
      "Cost after epoch 290: 0.058586\n",
      "Cost after epoch 300: 0.051636\n",
      "Cost after epoch 310: 0.045091\n",
      "Cost after epoch 320: 0.044352\n",
      "Cost after epoch 330: 0.051579\n",
      "Cost after epoch 340: 0.039991\n",
      "Cost after epoch 350: 0.049026\n",
      "Cost after epoch 360: 0.032392\n",
      "Cost after epoch 370: 0.036231\n",
      "Cost after epoch 380: 0.050927\n",
      "Cost after epoch 390: 0.041308\n",
      "Cost after epoch 400: 0.035131\n",
      "Cost after epoch 410: 0.019556\n",
      "Cost after epoch 420: 0.035618\n",
      "Cost after epoch 430: 0.040432\n",
      "Cost after epoch 440: 0.040063\n",
      "Cost after epoch 450: 0.041802\n",
      "Cost after epoch 460: 0.042217\n",
      "Cost after epoch 470: 0.034801\n",
      "Cost after epoch 480: 0.032602\n",
      "Cost after epoch 490: 0.029660\n",
      "Testing Accuracy: 0.8192\n"
     ]
    }
   ],
   "source": [
    "# Initialize the variables (i.e. assign their default value)\n",
    "init = tf.global_variables_initializer()\n",
    "costs = []\n",
    "with tf.Session() as sess:\n",
    "    \n",
    "    sess.run(init)\n",
    "    for step in range(num_steps):\n",
    "        minibatch_cost = 0\n",
    "        batch_x, batch_y = fashion_mnist.train.next_batch(batch_size)\n",
    "        #Run the session\n",
    "        _, temp_cost = sess.run([train, loss], \n",
    "                feed_dict = {X:batch_x, Y:batch_y, keep_prob:dropout})\n",
    "        minibatch_cost += temp_cost / fashion_mnist.train.num_examples\n",
    "        \n",
    "        if step % 10 == 0:\n",
    "            print (\"Cost after epoch %i: %f\" % (step, minibatch_cost))\n",
    "        if step % 1 == 0:\n",
    "            costs.append(minibatch_cost)\n",
    "        \n",
    "    # Evaluate model\n",
    "    correct_pred = tf.equal(tf.argmax(prediction, 1), tf.argmax(Y, 1))\n",
    "    accuracy = tf.reduce_mean(tf.cast(correct_pred, tf.float32))\n",
    "    \n",
    "    #Calculate accuracy of Fashion MNIST Test images\n",
    "    print('Testing Accuracy:', sess.run(accuracy, \n",
    "                                    feed_dict={X: fashion_mnist.test.images,\n",
    "                                    Y: fashion_mnist.test.labels,\n",
    "                                    keep_prob: 1.0}))"
   ]
  },
  {
   "cell_type": "code",
   "execution_count": 14,
   "metadata": {},
   "outputs": [
    {
     "data": {
      "image/png": "[encoded data removed]",
      "text/plain": [
       "<matplotlib.figure.Figure at 0x7da2fa4a58>"
      ]
     },
     "metadata": {},
     "output_type": "display_data"
    }
   ],
   "source": [
    "#Plot the cost function\n",
    "import numpy as np\n",
    "plt.plot(np.squeeze(costs))\n",
    "plt.ylabel('Cost')\n",
    "plt.xlabel('Iterations (per tens)')\n",
    "plt.title(\"Learning rate =\" + str(learning_rate))\n",
    "plt.show()"
   ]
  },
  {
   "cell_type": "code",
   "execution_count": null,
   "metadata": {
    "collapsed": true
   },
   "outputs": [],
   "source": []
  }
 ],
 "metadata": {
  "kernelspec": {
   "display_name": "Python 3",
   "language": "python",
   "name": "python3"
  },
  "language_info": {
   "codemirror_mode": {
    "name": "ipython",
    "version": 3
   },
   "file_extension": ".py",
   "mimetype": "text/x-python",
   "name": "python",
   "nbconvert_exporter": "python",
   "pygments_lexer": "ipython3",
   "version": "3.6.3"
  }
 },
 "nbformat": 4,
 "nbformat_minor": 2
}
